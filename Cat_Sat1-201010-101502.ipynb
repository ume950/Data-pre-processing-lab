{
  "nbformat": 4,
  "nbformat_minor": 0,
  "metadata": {
    "colab": {
      "name": "Cat-Sat.ipynb",
      "provenance": []
    },
    "kernelspec": {
      "name": "python3",
      "display_name": "Python 3"
    }
  },
  "cells": [
    {
      "cell_type": "markdown",
      "metadata": {
        "id": "vvVIKzx0wBi2"
      },
      "source": [
        "This notebook explains following  data pre-processing activities.\n",
        "\n",
        "\n",
        "1.   Data Scaling using MinMaxScaler from Scikit-Learn\n",
        "2.   Data Standardisation using  StandardScaler from Scikit-Learn\n",
        "3. Converting Categorical Data to Numeric data through Replacing values\n",
        "4.  Converting Categorical Data to Numeric data through \n",
        "LabelEncoder from Scikit-Learn\n",
        "5  Converting Categorical Data to Numeric data through onehot encoding using Pandas dummy method\n"
      ]
    },
    {
      "cell_type": "code",
      "metadata": {
        "id": "E7W8YoMvp88m",
        "outputId": "36fb1520-5c17-48a6-b04b-7586d9b9da66",
        "colab": {
          "base_uri": "https://localhost:8080/",
          "height": 195
        }
      },
      "source": [
        "import pandas as pd\n",
        "import numpy as np\n",
        "from sklearn.preprocessing import MinMaxScaler\n",
        "\n",
        "df= pd.read_csv('/content/amsPrediction - Sheet1 (1).csv')\n",
        "df.head()"
      ],
      "execution_count": 11,
      "outputs": [
        {
          "output_type": "execute_result",
          "data": {
            "text/html": [
              "<div>\n",
              "<style scoped>\n",
              "    .dataframe tbody tr th:only-of-type {\n",
              "        vertical-align: middle;\n",
              "    }\n",
              "\n",
              "    .dataframe tbody tr th {\n",
              "        vertical-align: top;\n",
              "    }\n",
              "\n",
              "    .dataframe thead th {\n",
              "        text-align: right;\n",
              "    }\n",
              "</style>\n",
              "<table border=\"1\" class=\"dataframe\">\n",
              "  <thead>\n",
              "    <tr style=\"text-align: right;\">\n",
              "      <th></th>\n",
              "      <th>Attendance</th>\n",
              "      <th>MSE</th>\n",
              "      <th>HRS</th>\n",
              "      <th>ESE</th>\n",
              "    </tr>\n",
              "  </thead>\n",
              "  <tbody>\n",
              "    <tr>\n",
              "      <th>0</th>\n",
              "      <td>70</td>\n",
              "      <td>10</td>\n",
              "      <td>17</td>\n",
              "      <td>42</td>\n",
              "    </tr>\n",
              "    <tr>\n",
              "      <th>1</th>\n",
              "      <td>92</td>\n",
              "      <td>7</td>\n",
              "      <td>20</td>\n",
              "      <td>39</td>\n",
              "    </tr>\n",
              "    <tr>\n",
              "      <th>2</th>\n",
              "      <td>67</td>\n",
              "      <td>3</td>\n",
              "      <td>18</td>\n",
              "      <td>32</td>\n",
              "    </tr>\n",
              "    <tr>\n",
              "      <th>3</th>\n",
              "      <td>82</td>\n",
              "      <td>16</td>\n",
              "      <td>13</td>\n",
              "      <td>50</td>\n",
              "    </tr>\n",
              "    <tr>\n",
              "      <th>4</th>\n",
              "      <td>80</td>\n",
              "      <td>9</td>\n",
              "      <td>10</td>\n",
              "      <td>44</td>\n",
              "    </tr>\n",
              "  </tbody>\n",
              "</table>\n",
              "</div>"
            ],
            "text/plain": [
              "   Attendance  MSE  HRS  ESE\n",
              "0          70   10   17   42\n",
              "1          92    7   20   39\n",
              "2          67    3   18   32\n",
              "3          82   16   13   50\n",
              "4          80    9   10   44"
            ]
          },
          "metadata": {
            "tags": []
          },
          "execution_count": 11
        }
      ]
    },
    {
      "cell_type": "code",
      "metadata": {
        "id": "C96SrGR5qWu6",
        "outputId": "f6284c1b-a112-422f-c26b-5f363c011dac",
        "colab": {
          "base_uri": "https://localhost:8080/",
          "height": 195
        }
      },
      "source": [
        "scaler = MinMaxScaler()\n",
        "df_values = df.values\n",
        "df_scaled = scaler.fit_transform(df_values)\n",
        "normalized_df = pd.DataFrame(df_scaled)\n",
        "normalized_df.head()"
      ],
      "execution_count": 15,
      "outputs": [
        {
          "output_type": "execute_result",
          "data": {
            "text/html": [
              "<div>\n",
              "<style scoped>\n",
              "    .dataframe tbody tr th:only-of-type {\n",
              "        vertical-align: middle;\n",
              "    }\n",
              "\n",
              "    .dataframe tbody tr th {\n",
              "        vertical-align: top;\n",
              "    }\n",
              "\n",
              "    .dataframe thead th {\n",
              "        text-align: right;\n",
              "    }\n",
              "</style>\n",
              "<table border=\"1\" class=\"dataframe\">\n",
              "  <thead>\n",
              "    <tr style=\"text-align: right;\">\n",
              "      <th></th>\n",
              "      <th>0</th>\n",
              "      <th>1</th>\n",
              "      <th>2</th>\n",
              "      <th>3</th>\n",
              "    </tr>\n",
              "  </thead>\n",
              "  <tbody>\n",
              "    <tr>\n",
              "      <th>0</th>\n",
              "      <td>0.222222</td>\n",
              "      <td>0.500000</td>\n",
              "      <td>0.75</td>\n",
              "      <td>0.31250</td>\n",
              "    </tr>\n",
              "    <tr>\n",
              "      <th>1</th>\n",
              "      <td>0.833333</td>\n",
              "      <td>0.285714</td>\n",
              "      <td>0.90</td>\n",
              "      <td>0.21875</td>\n",
              "    </tr>\n",
              "    <tr>\n",
              "      <th>2</th>\n",
              "      <td>0.138889</td>\n",
              "      <td>0.000000</td>\n",
              "      <td>0.80</td>\n",
              "      <td>0.00000</td>\n",
              "    </tr>\n",
              "    <tr>\n",
              "      <th>3</th>\n",
              "      <td>0.555556</td>\n",
              "      <td>0.928571</td>\n",
              "      <td>0.55</td>\n",
              "      <td>0.56250</td>\n",
              "    </tr>\n",
              "    <tr>\n",
              "      <th>4</th>\n",
              "      <td>0.500000</td>\n",
              "      <td>0.428571</td>\n",
              "      <td>0.40</td>\n",
              "      <td>0.37500</td>\n",
              "    </tr>\n",
              "  </tbody>\n",
              "</table>\n",
              "</div>"
            ],
            "text/plain": [
              "          0         1     2        3\n",
              "0  0.222222  0.500000  0.75  0.31250\n",
              "1  0.833333  0.285714  0.90  0.21875\n",
              "2  0.138889  0.000000  0.80  0.00000\n",
              "3  0.555556  0.928571  0.55  0.56250\n",
              "4  0.500000  0.428571  0.40  0.37500"
            ]
          },
          "metadata": {
            "tags": []
          },
          "execution_count": 15
        }
      ]
    },
    {
      "cell_type": "code",
      "metadata": {
        "id": "IzPyRhfKqocz",
        "outputId": "fa914714-5114-4453-d81a-378bc1fd6a7f",
        "colab": {
          "base_uri": "https://localhost:8080/",
          "height": 284
        }
      },
      "source": [
        "normalized_df.describe()"
      ],
      "execution_count": 16,
      "outputs": [
        {
          "output_type": "execute_result",
          "data": {
            "text/html": [
              "<div>\n",
              "<style scoped>\n",
              "    .dataframe tbody tr th:only-of-type {\n",
              "        vertical-align: middle;\n",
              "    }\n",
              "\n",
              "    .dataframe tbody tr th {\n",
              "        vertical-align: top;\n",
              "    }\n",
              "\n",
              "    .dataframe thead th {\n",
              "        text-align: right;\n",
              "    }\n",
              "</style>\n",
              "<table border=\"1\" class=\"dataframe\">\n",
              "  <thead>\n",
              "    <tr style=\"text-align: right;\">\n",
              "      <th></th>\n",
              "      <th>0</th>\n",
              "      <th>1</th>\n",
              "      <th>2</th>\n",
              "      <th>3</th>\n",
              "    </tr>\n",
              "  </thead>\n",
              "  <tbody>\n",
              "    <tr>\n",
              "      <th>count</th>\n",
              "      <td>73.000000</td>\n",
              "      <td>73.000000</td>\n",
              "      <td>73.000000</td>\n",
              "      <td>73.000000</td>\n",
              "    </tr>\n",
              "    <tr>\n",
              "      <th>mean</th>\n",
              "      <td>0.547184</td>\n",
              "      <td>0.484344</td>\n",
              "      <td>0.545205</td>\n",
              "      <td>0.457192</td>\n",
              "    </tr>\n",
              "    <tr>\n",
              "      <th>std</th>\n",
              "      <td>0.264079</td>\n",
              "      <td>0.217648</td>\n",
              "      <td>0.285064</td>\n",
              "      <td>0.206798</td>\n",
              "    </tr>\n",
              "    <tr>\n",
              "      <th>min</th>\n",
              "      <td>0.000000</td>\n",
              "      <td>0.000000</td>\n",
              "      <td>0.000000</td>\n",
              "      <td>0.000000</td>\n",
              "    </tr>\n",
              "    <tr>\n",
              "      <th>25%</th>\n",
              "      <td>0.361111</td>\n",
              "      <td>0.357143</td>\n",
              "      <td>0.300000</td>\n",
              "      <td>0.312500</td>\n",
              "    </tr>\n",
              "    <tr>\n",
              "      <th>50%</th>\n",
              "      <td>0.500000</td>\n",
              "      <td>0.500000</td>\n",
              "      <td>0.600000</td>\n",
              "      <td>0.468750</td>\n",
              "    </tr>\n",
              "    <tr>\n",
              "      <th>75%</th>\n",
              "      <td>0.777778</td>\n",
              "      <td>0.571429</td>\n",
              "      <td>0.800000</td>\n",
              "      <td>0.562500</td>\n",
              "    </tr>\n",
              "    <tr>\n",
              "      <th>max</th>\n",
              "      <td>1.000000</td>\n",
              "      <td>1.000000</td>\n",
              "      <td>1.000000</td>\n",
              "      <td>1.000000</td>\n",
              "    </tr>\n",
              "  </tbody>\n",
              "</table>\n",
              "</div>"
            ],
            "text/plain": [
              "               0          1          2          3\n",
              "count  73.000000  73.000000  73.000000  73.000000\n",
              "mean    0.547184   0.484344   0.545205   0.457192\n",
              "std     0.264079   0.217648   0.285064   0.206798\n",
              "min     0.000000   0.000000   0.000000   0.000000\n",
              "25%     0.361111   0.357143   0.300000   0.312500\n",
              "50%     0.500000   0.500000   0.600000   0.468750\n",
              "75%     0.777778   0.571429   0.800000   0.562500\n",
              "max     1.000000   1.000000   1.000000   1.000000"
            ]
          },
          "metadata": {
            "tags": []
          },
          "execution_count": 16
        }
      ]
    },
    {
      "cell_type": "code",
      "metadata": {
        "id": "h5_Zm_BGtdO9",
        "outputId": "1d627bc4-3dfc-473a-c954-68072f14d7ab",
        "colab": {
          "base_uri": "https://localhost:8080/",
          "height": 195
        }
      },
      "source": [
        "from sklearn.preprocessing import  StandardScaler\n",
        "std_scaler = StandardScaler()\n",
        "df_values = df.values\n",
        "df_std= std_scaler.fit_transform(df_values)\n",
        "standardized_df = pd.DataFrame(df_std)\n",
        "standardized_df.head()"
      ],
      "execution_count": 20,
      "outputs": [
        {
          "output_type": "execute_result",
          "data": {
            "text/html": [
              "<div>\n",
              "<style scoped>\n",
              "    .dataframe tbody tr th:only-of-type {\n",
              "        vertical-align: middle;\n",
              "    }\n",
              "\n",
              "    .dataframe tbody tr th {\n",
              "        vertical-align: top;\n",
              "    }\n",
              "\n",
              "    .dataframe thead th {\n",
              "        text-align: right;\n",
              "    }\n",
              "</style>\n",
              "<table border=\"1\" class=\"dataframe\">\n",
              "  <thead>\n",
              "    <tr style=\"text-align: right;\">\n",
              "      <th></th>\n",
              "      <th>0</th>\n",
              "      <th>1</th>\n",
              "      <th>2</th>\n",
              "      <th>3</th>\n",
              "    </tr>\n",
              "  </thead>\n",
              "  <tbody>\n",
              "    <tr>\n",
              "      <th>0</th>\n",
              "      <td>-1.239064</td>\n",
              "      <td>0.072429</td>\n",
              "      <td>0.723388</td>\n",
              "      <td>-0.704518</td>\n",
              "    </tr>\n",
              "    <tr>\n",
              "      <th>1</th>\n",
              "      <td>1.091073</td>\n",
              "      <td>-0.918938</td>\n",
              "      <td>1.253227</td>\n",
              "      <td>-1.160996</td>\n",
              "    </tr>\n",
              "    <tr>\n",
              "      <th>2</th>\n",
              "      <td>-1.556810</td>\n",
              "      <td>-2.240760</td>\n",
              "      <td>0.900001</td>\n",
              "      <td>-2.226111</td>\n",
              "    </tr>\n",
              "    <tr>\n",
              "      <th>3</th>\n",
              "      <td>0.031920</td>\n",
              "      <td>2.055161</td>\n",
              "      <td>0.016936</td>\n",
              "      <td>0.512756</td>\n",
              "    </tr>\n",
              "    <tr>\n",
              "      <th>4</th>\n",
              "      <td>-0.179911</td>\n",
              "      <td>-0.258027</td>\n",
              "      <td>-0.512904</td>\n",
              "      <td>-0.400200</td>\n",
              "    </tr>\n",
              "  </tbody>\n",
              "</table>\n",
              "</div>"
            ],
            "text/plain": [
              "          0         1         2         3\n",
              "0 -1.239064  0.072429  0.723388 -0.704518\n",
              "1  1.091073 -0.918938  1.253227 -1.160996\n",
              "2 -1.556810 -2.240760  0.900001 -2.226111\n",
              "3  0.031920  2.055161  0.016936  0.512756\n",
              "4 -0.179911 -0.258027 -0.512904 -0.400200"
            ]
          },
          "metadata": {
            "tags": []
          },
          "execution_count": 20
        }
      ]
    },
    {
      "cell_type": "code",
      "metadata": {
        "id": "V8ISYTSxu-uz",
        "outputId": "444a8c6f-92ab-4e3b-ef55-2bf27766f89a",
        "colab": {
          "base_uri": "https://localhost:8080/",
          "height": 284
        }
      },
      "source": [
        "standardized_df.describe()"
      ],
      "execution_count": 21,
      "outputs": [
        {
          "output_type": "execute_result",
          "data": {
            "text/html": [
              "<div>\n",
              "<style scoped>\n",
              "    .dataframe tbody tr th:only-of-type {\n",
              "        vertical-align: middle;\n",
              "    }\n",
              "\n",
              "    .dataframe tbody tr th {\n",
              "        vertical-align: top;\n",
              "    }\n",
              "\n",
              "    .dataframe thead th {\n",
              "        text-align: right;\n",
              "    }\n",
              "</style>\n",
              "<table border=\"1\" class=\"dataframe\">\n",
              "  <thead>\n",
              "    <tr style=\"text-align: right;\">\n",
              "      <th></th>\n",
              "      <th>0</th>\n",
              "      <th>1</th>\n",
              "      <th>2</th>\n",
              "      <th>3</th>\n",
              "    </tr>\n",
              "  </thead>\n",
              "  <tbody>\n",
              "    <tr>\n",
              "      <th>count</th>\n",
              "      <td>7.300000e+01</td>\n",
              "      <td>7.300000e+01</td>\n",
              "      <td>7.300000e+01</td>\n",
              "      <td>7.300000e+01</td>\n",
              "    </tr>\n",
              "    <tr>\n",
              "      <th>mean</th>\n",
              "      <td>5.718409e-16</td>\n",
              "      <td>3.239418e-16</td>\n",
              "      <td>1.338351e-16</td>\n",
              "      <td>-5.201319e-16</td>\n",
              "    </tr>\n",
              "    <tr>\n",
              "      <th>std</th>\n",
              "      <td>1.006920e+00</td>\n",
              "      <td>1.006920e+00</td>\n",
              "      <td>1.006920e+00</td>\n",
              "      <td>1.006920e+00</td>\n",
              "    </tr>\n",
              "    <tr>\n",
              "      <th>min</th>\n",
              "      <td>-2.086386e+00</td>\n",
              "      <td>-2.240760e+00</td>\n",
              "      <td>-1.925809e+00</td>\n",
              "      <td>-2.226111e+00</td>\n",
              "    </tr>\n",
              "    <tr>\n",
              "      <th>25%</th>\n",
              "      <td>-7.094874e-01</td>\n",
              "      <td>-5.884823e-01</td>\n",
              "      <td>-8.661302e-01</td>\n",
              "      <td>-7.045184e-01</td>\n",
              "    </tr>\n",
              "    <tr>\n",
              "      <th>50%</th>\n",
              "      <td>-1.799109e-01</td>\n",
              "      <td>7.242860e-02</td>\n",
              "      <td>1.935486e-01</td>\n",
              "      <td>5.627810e-02</td>\n",
              "    </tr>\n",
              "    <tr>\n",
              "      <th>75%</th>\n",
              "      <td>8.792420e-01</td>\n",
              "      <td>4.028841e-01</td>\n",
              "      <td>9.000012e-01</td>\n",
              "      <td>5.127560e-01</td>\n",
              "    </tr>\n",
              "    <tr>\n",
              "      <th>max</th>\n",
              "      <td>1.726564e+00</td>\n",
              "      <td>2.385617e+00</td>\n",
              "      <td>1.606454e+00</td>\n",
              "      <td>2.642986e+00</td>\n",
              "    </tr>\n",
              "  </tbody>\n",
              "</table>\n",
              "</div>"
            ],
            "text/plain": [
              "                  0             1             2             3\n",
              "count  7.300000e+01  7.300000e+01  7.300000e+01  7.300000e+01\n",
              "mean   5.718409e-16  3.239418e-16  1.338351e-16 -5.201319e-16\n",
              "std    1.006920e+00  1.006920e+00  1.006920e+00  1.006920e+00\n",
              "min   -2.086386e+00 -2.240760e+00 -1.925809e+00 -2.226111e+00\n",
              "25%   -7.094874e-01 -5.884823e-01 -8.661302e-01 -7.045184e-01\n",
              "50%   -1.799109e-01  7.242860e-02  1.935486e-01  5.627810e-02\n",
              "75%    8.792420e-01  4.028841e-01  9.000012e-01  5.127560e-01\n",
              "max    1.726564e+00  2.385617e+00  1.606454e+00  2.642986e+00"
            ]
          },
          "metadata": {
            "tags": []
          },
          "execution_count": 21
        }
      ]
    },
    {
      "cell_type": "code",
      "metadata": {
        "id": "zaX07zT_z0dB",
        "outputId": "34189a1b-82d9-46e0-a286-941a5c52ae14",
        "colab": {
          "base_uri": "https://localhost:8080/",
          "height": 195
        }
      },
      "source": [
        "\n",
        "df= pd.read_csv('/content/std-cat.csv')\n",
        "df.head()\n"
      ],
      "execution_count": 2,
      "outputs": [
        {
          "output_type": "execute_result",
          "data": {
            "text/html": [
              "<div>\n",
              "<style scoped>\n",
              "    .dataframe tbody tr th:only-of-type {\n",
              "        vertical-align: middle;\n",
              "    }\n",
              "\n",
              "    .dataframe tbody tr th {\n",
              "        vertical-align: top;\n",
              "    }\n",
              "\n",
              "    .dataframe thead th {\n",
              "        text-align: right;\n",
              "    }\n",
              "</style>\n",
              "<table border=\"1\" class=\"dataframe\">\n",
              "  <thead>\n",
              "    <tr style=\"text-align: right;\">\n",
              "      <th></th>\n",
              "      <th>RNO</th>\n",
              "      <th>State</th>\n",
              "      <th>Category</th>\n",
              "      <th>Gender</th>\n",
              "    </tr>\n",
              "  </thead>\n",
              "  <tbody>\n",
              "    <tr>\n",
              "      <th>0</th>\n",
              "      <td>20150601</td>\n",
              "      <td>Maharashtra</td>\n",
              "      <td>OBC</td>\n",
              "      <td>F</td>\n",
              "    </tr>\n",
              "    <tr>\n",
              "      <th>1</th>\n",
              "      <td>20150602</td>\n",
              "      <td>Maharashtra</td>\n",
              "      <td>SC</td>\n",
              "      <td>M</td>\n",
              "    </tr>\n",
              "    <tr>\n",
              "      <th>2</th>\n",
              "      <td>20150603</td>\n",
              "      <td>Maharashtra</td>\n",
              "      <td>ST</td>\n",
              "      <td>M</td>\n",
              "    </tr>\n",
              "    <tr>\n",
              "      <th>3</th>\n",
              "      <td>20150604</td>\n",
              "      <td>JK</td>\n",
              "      <td>GEN</td>\n",
              "      <td>F</td>\n",
              "    </tr>\n",
              "    <tr>\n",
              "      <th>4</th>\n",
              "      <td>20150605</td>\n",
              "      <td>Nagaland</td>\n",
              "      <td>GEN</td>\n",
              "      <td>M</td>\n",
              "    </tr>\n",
              "  </tbody>\n",
              "</table>\n",
              "</div>"
            ],
            "text/plain": [
              "        RNO        State Category Gender\n",
              "0  20150601  Maharashtra      OBC      F\n",
              "1  20150602  Maharashtra       SC      M\n",
              "2  20150603  Maharashtra       ST      M\n",
              "3  20150604           JK      GEN      F\n",
              "4  20150605     Nagaland      GEN      M"
            ]
          },
          "metadata": {
            "tags": []
          },
          "execution_count": 2
        }
      ]
    },
    {
      "cell_type": "code",
      "metadata": {
        "id": "VOds4sFR19GZ",
        "outputId": "a769db7a-3015-4d18-c5c1-9b21cb8e2e75",
        "colab": {
          "base_uri": "https://localhost:8080/",
          "height": 219
        }
      },
      "source": [
        "df.info()\n"
      ],
      "execution_count": null,
      "outputs": [
        {
          "output_type": "stream",
          "text": [
            "<class 'pandas.core.frame.DataFrame'>\n",
            "RangeIndex: 5 entries, 0 to 4\n",
            "Data columns (total 4 columns):\n",
            " #   Column    Non-Null Count  Dtype \n",
            "---  ------    --------------  ----- \n",
            " 0   RNO       5 non-null      int64 \n",
            " 1   State     5 non-null      object\n",
            " 2   Category  5 non-null      object\n",
            " 3   Gender    5 non-null      object\n",
            "dtypes: int64(1), object(3)\n",
            "memory usage: 288.0+ bytes\n"
          ],
          "name": "stdout"
        }
      ]
    },
    {
      "cell_type": "code",
      "metadata": {
        "id": "Dypko5Ez2NhB",
        "outputId": "f96df3e5-0029-4af6-9d54-230dcd3b3e17",
        "colab": {
          "base_uri": "https://localhost:8080/",
          "height": 219
        }
      },
      "source": [
        "new={'F':0,'M':1}\n",
        "df=df.replace({'Gender':new})\n",
        "df.info()"
      ],
      "execution_count": null,
      "outputs": [
        {
          "output_type": "stream",
          "text": [
            "<class 'pandas.core.frame.DataFrame'>\n",
            "RangeIndex: 5 entries, 0 to 4\n",
            "Data columns (total 4 columns):\n",
            " #   Column    Non-Null Count  Dtype \n",
            "---  ------    --------------  ----- \n",
            " 0   RNO       5 non-null      int64 \n",
            " 1   State     5 non-null      object\n",
            " 2   Category  5 non-null      object\n",
            " 3   Gender    5 non-null      int64 \n",
            "dtypes: int64(2), object(2)\n",
            "memory usage: 288.0+ bytes\n"
          ],
          "name": "stdout"
        }
      ]
    },
    {
      "cell_type": "code",
      "metadata": {
        "id": "6G2rctca3L-j",
        "outputId": "faac894d-e057-465b-d879-cbbe98537ca2",
        "colab": {
          "base_uri": "https://localhost:8080/",
          "height": 284
        }
      },
      "source": [
        "df.describe()"
      ],
      "execution_count": null,
      "outputs": [
        {
          "output_type": "execute_result",
          "data": {
            "text/html": [
              "<div>\n",
              "<style scoped>\n",
              "    .dataframe tbody tr th:only-of-type {\n",
              "        vertical-align: middle;\n",
              "    }\n",
              "\n",
              "    .dataframe tbody tr th {\n",
              "        vertical-align: top;\n",
              "    }\n",
              "\n",
              "    .dataframe thead th {\n",
              "        text-align: right;\n",
              "    }\n",
              "</style>\n",
              "<table border=\"1\" class=\"dataframe\">\n",
              "  <thead>\n",
              "    <tr style=\"text-align: right;\">\n",
              "      <th></th>\n",
              "      <th>RNO</th>\n",
              "      <th>Gender</th>\n",
              "    </tr>\n",
              "  </thead>\n",
              "  <tbody>\n",
              "    <tr>\n",
              "      <th>count</th>\n",
              "      <td>5.000000e+00</td>\n",
              "      <td>5.000000</td>\n",
              "    </tr>\n",
              "    <tr>\n",
              "      <th>mean</th>\n",
              "      <td>2.015060e+07</td>\n",
              "      <td>0.600000</td>\n",
              "    </tr>\n",
              "    <tr>\n",
              "      <th>std</th>\n",
              "      <td>1.581139e+00</td>\n",
              "      <td>0.547723</td>\n",
              "    </tr>\n",
              "    <tr>\n",
              "      <th>min</th>\n",
              "      <td>2.015060e+07</td>\n",
              "      <td>0.000000</td>\n",
              "    </tr>\n",
              "    <tr>\n",
              "      <th>25%</th>\n",
              "      <td>2.015060e+07</td>\n",
              "      <td>0.000000</td>\n",
              "    </tr>\n",
              "    <tr>\n",
              "      <th>50%</th>\n",
              "      <td>2.015060e+07</td>\n",
              "      <td>1.000000</td>\n",
              "    </tr>\n",
              "    <tr>\n",
              "      <th>75%</th>\n",
              "      <td>2.015060e+07</td>\n",
              "      <td>1.000000</td>\n",
              "    </tr>\n",
              "    <tr>\n",
              "      <th>max</th>\n",
              "      <td>2.015060e+07</td>\n",
              "      <td>1.000000</td>\n",
              "    </tr>\n",
              "  </tbody>\n",
              "</table>\n",
              "</div>"
            ],
            "text/plain": [
              "                RNO    Gender\n",
              "count  5.000000e+00  5.000000\n",
              "mean   2.015060e+07  0.600000\n",
              "std    1.581139e+00  0.547723\n",
              "min    2.015060e+07  0.000000\n",
              "25%    2.015060e+07  0.000000\n",
              "50%    2.015060e+07  1.000000\n",
              "75%    2.015060e+07  1.000000\n",
              "max    2.015060e+07  1.000000"
            ]
          },
          "metadata": {
            "tags": []
          },
          "execution_count": 27
        }
      ]
    },
    {
      "cell_type": "code",
      "metadata": {
        "id": "NheB8snKSfsr",
        "outputId": "ac8b9730-1c05-4e93-b79e-890ed1db1b20",
        "colab": {
          "base_uri": "https://localhost:8080/",
          "height": 195
        }
      },
      "source": [
        "df.head()"
      ],
      "execution_count": null,
      "outputs": [
        {
          "output_type": "execute_result",
          "data": {
            "text/html": [
              "<div>\n",
              "<style scoped>\n",
              "    .dataframe tbody tr th:only-of-type {\n",
              "        vertical-align: middle;\n",
              "    }\n",
              "\n",
              "    .dataframe tbody tr th {\n",
              "        vertical-align: top;\n",
              "    }\n",
              "\n",
              "    .dataframe thead th {\n",
              "        text-align: right;\n",
              "    }\n",
              "</style>\n",
              "<table border=\"1\" class=\"dataframe\">\n",
              "  <thead>\n",
              "    <tr style=\"text-align: right;\">\n",
              "      <th></th>\n",
              "      <th>RNO</th>\n",
              "      <th>State</th>\n",
              "      <th>Category</th>\n",
              "      <th>Gender</th>\n",
              "    </tr>\n",
              "  </thead>\n",
              "  <tbody>\n",
              "    <tr>\n",
              "      <th>0</th>\n",
              "      <td>20150601</td>\n",
              "      <td>Maharashtra</td>\n",
              "      <td>OBC</td>\n",
              "      <td>0</td>\n",
              "    </tr>\n",
              "    <tr>\n",
              "      <th>1</th>\n",
              "      <td>20150602</td>\n",
              "      <td>Maharashtra</td>\n",
              "      <td>SC</td>\n",
              "      <td>1</td>\n",
              "    </tr>\n",
              "    <tr>\n",
              "      <th>2</th>\n",
              "      <td>20150603</td>\n",
              "      <td>Maharashtra</td>\n",
              "      <td>ST</td>\n",
              "      <td>1</td>\n",
              "    </tr>\n",
              "    <tr>\n",
              "      <th>3</th>\n",
              "      <td>20150604</td>\n",
              "      <td>JK</td>\n",
              "      <td>GEN</td>\n",
              "      <td>0</td>\n",
              "    </tr>\n",
              "    <tr>\n",
              "      <th>4</th>\n",
              "      <td>20150605</td>\n",
              "      <td>Nagaland</td>\n",
              "      <td>GEN</td>\n",
              "      <td>1</td>\n",
              "    </tr>\n",
              "  </tbody>\n",
              "</table>\n",
              "</div>"
            ],
            "text/plain": [
              "        RNO        State Category  Gender\n",
              "0  20150601  Maharashtra      OBC       0\n",
              "1  20150602  Maharashtra       SC       1\n",
              "2  20150603  Maharashtra       ST       1\n",
              "3  20150604           JK      GEN       0\n",
              "4  20150605     Nagaland      GEN       1"
            ]
          },
          "metadata": {
            "tags": []
          },
          "execution_count": 28
        }
      ]
    },
    {
      "cell_type": "code",
      "metadata": {
        "id": "gfyFhEEjT9_4",
        "outputId": "976f9601-b777-4b08-b34f-1f8c4e2507e0",
        "colab": {
          "base_uri": "https://localhost:8080/",
          "height": 195
        }
      },
      "source": [
        "from sklearn.preprocessing import LabelEncoder\n",
        "\n",
        "lb = LabelEncoder()\n",
        "df['State'] = lb.fit_transform(df['State'])\n",
        "df.head()"
      ],
      "execution_count": null,
      "outputs": [
        {
          "output_type": "execute_result",
          "data": {
            "text/html": [
              "<div>\n",
              "<style scoped>\n",
              "    .dataframe tbody tr th:only-of-type {\n",
              "        vertical-align: middle;\n",
              "    }\n",
              "\n",
              "    .dataframe tbody tr th {\n",
              "        vertical-align: top;\n",
              "    }\n",
              "\n",
              "    .dataframe thead th {\n",
              "        text-align: right;\n",
              "    }\n",
              "</style>\n",
              "<table border=\"1\" class=\"dataframe\">\n",
              "  <thead>\n",
              "    <tr style=\"text-align: right;\">\n",
              "      <th></th>\n",
              "      <th>RNO</th>\n",
              "      <th>State</th>\n",
              "      <th>Category</th>\n",
              "      <th>Gender</th>\n",
              "    </tr>\n",
              "  </thead>\n",
              "  <tbody>\n",
              "    <tr>\n",
              "      <th>0</th>\n",
              "      <td>20150601</td>\n",
              "      <td>1</td>\n",
              "      <td>OBC</td>\n",
              "      <td>0</td>\n",
              "    </tr>\n",
              "    <tr>\n",
              "      <th>1</th>\n",
              "      <td>20150602</td>\n",
              "      <td>1</td>\n",
              "      <td>SC</td>\n",
              "      <td>1</td>\n",
              "    </tr>\n",
              "    <tr>\n",
              "      <th>2</th>\n",
              "      <td>20150603</td>\n",
              "      <td>1</td>\n",
              "      <td>ST</td>\n",
              "      <td>1</td>\n",
              "    </tr>\n",
              "    <tr>\n",
              "      <th>3</th>\n",
              "      <td>20150604</td>\n",
              "      <td>0</td>\n",
              "      <td>GEN</td>\n",
              "      <td>0</td>\n",
              "    </tr>\n",
              "    <tr>\n",
              "      <th>4</th>\n",
              "      <td>20150605</td>\n",
              "      <td>2</td>\n",
              "      <td>GEN</td>\n",
              "      <td>1</td>\n",
              "    </tr>\n",
              "  </tbody>\n",
              "</table>\n",
              "</div>"
            ],
            "text/plain": [
              "        RNO  State Category  Gender\n",
              "0  20150601      1      OBC       0\n",
              "1  20150602      1       SC       1\n",
              "2  20150603      1       ST       1\n",
              "3  20150604      0      GEN       0\n",
              "4  20150605      2      GEN       1"
            ]
          },
          "metadata": {
            "tags": []
          },
          "execution_count": 30
        }
      ]
    },
    {
      "cell_type": "code",
      "metadata": {
        "id": "OlvQQQMT3f0p",
        "outputId": "32c4fc0b-df35-4e73-fe87-9a54eb1722ef",
        "colab": {
          "base_uri": "https://localhost:8080/",
          "height": 195
        }
      },
      "source": [
        "df = pd.get_dummies(df, columns=['Category'], prefix = ['Cat'])\n",
        "df.head()"
      ],
      "execution_count": null,
      "outputs": [
        {
          "output_type": "execute_result",
          "data": {
            "text/html": [
              "<div>\n",
              "<style scoped>\n",
              "    .dataframe tbody tr th:only-of-type {\n",
              "        vertical-align: middle;\n",
              "    }\n",
              "\n",
              "    .dataframe tbody tr th {\n",
              "        vertical-align: top;\n",
              "    }\n",
              "\n",
              "    .dataframe thead th {\n",
              "        text-align: right;\n",
              "    }\n",
              "</style>\n",
              "<table border=\"1\" class=\"dataframe\">\n",
              "  <thead>\n",
              "    <tr style=\"text-align: right;\">\n",
              "      <th></th>\n",
              "      <th>RNO</th>\n",
              "      <th>State</th>\n",
              "      <th>Gender</th>\n",
              "      <th>Cat_GEN</th>\n",
              "      <th>Cat_OBC</th>\n",
              "      <th>Cat_SC</th>\n",
              "      <th>Cat_ST</th>\n",
              "    </tr>\n",
              "  </thead>\n",
              "  <tbody>\n",
              "    <tr>\n",
              "      <th>0</th>\n",
              "      <td>20150601</td>\n",
              "      <td>1</td>\n",
              "      <td>0</td>\n",
              "      <td>0</td>\n",
              "      <td>1</td>\n",
              "      <td>0</td>\n",
              "      <td>0</td>\n",
              "    </tr>\n",
              "    <tr>\n",
              "      <th>1</th>\n",
              "      <td>20150602</td>\n",
              "      <td>1</td>\n",
              "      <td>1</td>\n",
              "      <td>0</td>\n",
              "      <td>0</td>\n",
              "      <td>1</td>\n",
              "      <td>0</td>\n",
              "    </tr>\n",
              "    <tr>\n",
              "      <th>2</th>\n",
              "      <td>20150603</td>\n",
              "      <td>1</td>\n",
              "      <td>1</td>\n",
              "      <td>0</td>\n",
              "      <td>0</td>\n",
              "      <td>0</td>\n",
              "      <td>1</td>\n",
              "    </tr>\n",
              "    <tr>\n",
              "      <th>3</th>\n",
              "      <td>20150604</td>\n",
              "      <td>0</td>\n",
              "      <td>0</td>\n",
              "      <td>1</td>\n",
              "      <td>0</td>\n",
              "      <td>0</td>\n",
              "      <td>0</td>\n",
              "    </tr>\n",
              "    <tr>\n",
              "      <th>4</th>\n",
              "      <td>20150605</td>\n",
              "      <td>2</td>\n",
              "      <td>1</td>\n",
              "      <td>1</td>\n",
              "      <td>0</td>\n",
              "      <td>0</td>\n",
              "      <td>0</td>\n",
              "    </tr>\n",
              "  </tbody>\n",
              "</table>\n",
              "</div>"
            ],
            "text/plain": [
              "        RNO  State  Gender  Cat_GEN  Cat_OBC  Cat_SC  Cat_ST\n",
              "0  20150601      1       0        0        1       0       0\n",
              "1  20150602      1       1        0        0       1       0\n",
              "2  20150603      1       1        0        0       0       1\n",
              "3  20150604      0       0        1        0       0       0\n",
              "4  20150605      2       1        1        0       0       0"
            ]
          },
          "metadata": {
            "tags": []
          },
          "execution_count": 31
        }
      ]
    },
    {
      "cell_type": "code",
      "metadata": {
        "id": "JEPLQOL54P5T",
        "outputId": "ba246696-6a94-43c5-f723-fc0c0e268f7d",
        "colab": {
          "base_uri": "https://localhost:8080/",
          "height": 274
        }
      },
      "source": [
        "df.info()"
      ],
      "execution_count": null,
      "outputs": [
        {
          "output_type": "stream",
          "text": [
            "<class 'pandas.core.frame.DataFrame'>\n",
            "RangeIndex: 5 entries, 0 to 4\n",
            "Data columns (total 7 columns):\n",
            " #   Column   Non-Null Count  Dtype \n",
            "---  ------   --------------  ----- \n",
            " 0   RNO      5 non-null      int64 \n",
            " 1   State    5 non-null      object\n",
            " 2   Gender   5 non-null      int64 \n",
            " 3   Cat_GEN  5 non-null      uint8 \n",
            " 4   Cat_OBC  5 non-null      uint8 \n",
            " 5   Cat_SC   5 non-null      uint8 \n",
            " 6   Cat_ST   5 non-null      uint8 \n",
            "dtypes: int64(2), object(1), uint8(4)\n",
            "memory usage: 268.0+ bytes\n"
          ],
          "name": "stdout"
        }
      ]
    },
    {
      "cell_type": "code",
      "metadata": {
        "id": "5Q248vH24Zfw",
        "outputId": "8854a202-f0d9-481f-ca7e-d23b315ddb25",
        "colab": {
          "base_uri": "https://localhost:8080/",
          "height": 284
        }
      },
      "source": [
        "df.describe()"
      ],
      "execution_count": null,
      "outputs": [
        {
          "output_type": "execute_result",
          "data": {
            "text/html": [
              "<div>\n",
              "<style scoped>\n",
              "    .dataframe tbody tr th:only-of-type {\n",
              "        vertical-align: middle;\n",
              "    }\n",
              "\n",
              "    .dataframe tbody tr th {\n",
              "        vertical-align: top;\n",
              "    }\n",
              "\n",
              "    .dataframe thead th {\n",
              "        text-align: right;\n",
              "    }\n",
              "</style>\n",
              "<table border=\"1\" class=\"dataframe\">\n",
              "  <thead>\n",
              "    <tr style=\"text-align: right;\">\n",
              "      <th></th>\n",
              "      <th>RNO</th>\n",
              "      <th>Gender</th>\n",
              "      <th>Cat_GEN</th>\n",
              "      <th>Cat_OBC</th>\n",
              "      <th>Cat_SC</th>\n",
              "      <th>Cat_ST</th>\n",
              "    </tr>\n",
              "  </thead>\n",
              "  <tbody>\n",
              "    <tr>\n",
              "      <th>count</th>\n",
              "      <td>5.000000e+00</td>\n",
              "      <td>5.000000</td>\n",
              "      <td>5.000000</td>\n",
              "      <td>5.000000</td>\n",
              "      <td>5.000000</td>\n",
              "      <td>5.000000</td>\n",
              "    </tr>\n",
              "    <tr>\n",
              "      <th>mean</th>\n",
              "      <td>2.015060e+07</td>\n",
              "      <td>0.600000</td>\n",
              "      <td>0.400000</td>\n",
              "      <td>0.200000</td>\n",
              "      <td>0.200000</td>\n",
              "      <td>0.200000</td>\n",
              "    </tr>\n",
              "    <tr>\n",
              "      <th>std</th>\n",
              "      <td>1.581139e+00</td>\n",
              "      <td>0.547723</td>\n",
              "      <td>0.547723</td>\n",
              "      <td>0.447214</td>\n",
              "      <td>0.447214</td>\n",
              "      <td>0.447214</td>\n",
              "    </tr>\n",
              "    <tr>\n",
              "      <th>min</th>\n",
              "      <td>2.015060e+07</td>\n",
              "      <td>0.000000</td>\n",
              "      <td>0.000000</td>\n",
              "      <td>0.000000</td>\n",
              "      <td>0.000000</td>\n",
              "      <td>0.000000</td>\n",
              "    </tr>\n",
              "    <tr>\n",
              "      <th>25%</th>\n",
              "      <td>2.015060e+07</td>\n",
              "      <td>0.000000</td>\n",
              "      <td>0.000000</td>\n",
              "      <td>0.000000</td>\n",
              "      <td>0.000000</td>\n",
              "      <td>0.000000</td>\n",
              "    </tr>\n",
              "    <tr>\n",
              "      <th>50%</th>\n",
              "      <td>2.015060e+07</td>\n",
              "      <td>1.000000</td>\n",
              "      <td>0.000000</td>\n",
              "      <td>0.000000</td>\n",
              "      <td>0.000000</td>\n",
              "      <td>0.000000</td>\n",
              "    </tr>\n",
              "    <tr>\n",
              "      <th>75%</th>\n",
              "      <td>2.015060e+07</td>\n",
              "      <td>1.000000</td>\n",
              "      <td>1.000000</td>\n",
              "      <td>0.000000</td>\n",
              "      <td>0.000000</td>\n",
              "      <td>0.000000</td>\n",
              "    </tr>\n",
              "    <tr>\n",
              "      <th>max</th>\n",
              "      <td>2.015060e+07</td>\n",
              "      <td>1.000000</td>\n",
              "      <td>1.000000</td>\n",
              "      <td>1.000000</td>\n",
              "      <td>1.000000</td>\n",
              "      <td>1.000000</td>\n",
              "    </tr>\n",
              "  </tbody>\n",
              "</table>\n",
              "</div>"
            ],
            "text/plain": [
              "                RNO    Gender   Cat_GEN   Cat_OBC    Cat_SC    Cat_ST\n",
              "count  5.000000e+00  5.000000  5.000000  5.000000  5.000000  5.000000\n",
              "mean   2.015060e+07  0.600000  0.400000  0.200000  0.200000  0.200000\n",
              "std    1.581139e+00  0.547723  0.547723  0.447214  0.447214  0.447214\n",
              "min    2.015060e+07  0.000000  0.000000  0.000000  0.000000  0.000000\n",
              "25%    2.015060e+07  0.000000  0.000000  0.000000  0.000000  0.000000\n",
              "50%    2.015060e+07  1.000000  0.000000  0.000000  0.000000  0.000000\n",
              "75%    2.015060e+07  1.000000  1.000000  0.000000  0.000000  0.000000\n",
              "max    2.015060e+07  1.000000  1.000000  1.000000  1.000000  1.000000"
            ]
          },
          "metadata": {
            "tags": []
          },
          "execution_count": 18
        }
      ]
    },
    {
      "cell_type": "code",
      "metadata": {
        "id": "mUnkjyEG4fP0"
      },
      "source": [
        "from sklearn.preprocessing import LabelEncoder\n",
        "\n",
        "lb = LabelEncoder()\n",
        "df['State'] = lb.fit_transform(df['State'])"
      ],
      "execution_count": null,
      "outputs": []
    },
    {
      "cell_type": "code",
      "metadata": {
        "id": "Pga-c4NT4_jO",
        "outputId": "bbcff907-a1a5-47d5-967c-a87b8c3b9ba2",
        "colab": {
          "base_uri": "https://localhost:8080/",
          "height": 274
        }
      },
      "source": [
        "df.info()"
      ],
      "execution_count": null,
      "outputs": [
        {
          "output_type": "stream",
          "text": [
            "<class 'pandas.core.frame.DataFrame'>\n",
            "RangeIndex: 5 entries, 0 to 4\n",
            "Data columns (total 7 columns):\n",
            " #   Column   Non-Null Count  Dtype\n",
            "---  ------   --------------  -----\n",
            " 0   RNO      5 non-null      int64\n",
            " 1   State    5 non-null      int64\n",
            " 2   Gender   5 non-null      int64\n",
            " 3   Cat_GEN  5 non-null      uint8\n",
            " 4   Cat_OBC  5 non-null      uint8\n",
            " 5   Cat_SC   5 non-null      uint8\n",
            " 6   Cat_ST   5 non-null      uint8\n",
            "dtypes: int64(3), uint8(4)\n",
            "memory usage: 268.0 bytes\n"
          ],
          "name": "stdout"
        }
      ]
    },
    {
      "cell_type": "code",
      "metadata": {
        "id": "LmPLX3Sx5D6l",
        "outputId": "c4cd88ca-b766-46d4-adad-e98721167d95",
        "colab": {
          "base_uri": "https://localhost:8080/",
          "height": 195
        }
      },
      "source": [
        "df.head()"
      ],
      "execution_count": null,
      "outputs": [
        {
          "output_type": "execute_result",
          "data": {
            "text/html": [
              "<div>\n",
              "<style scoped>\n",
              "    .dataframe tbody tr th:only-of-type {\n",
              "        vertical-align: middle;\n",
              "    }\n",
              "\n",
              "    .dataframe tbody tr th {\n",
              "        vertical-align: top;\n",
              "    }\n",
              "\n",
              "    .dataframe thead th {\n",
              "        text-align: right;\n",
              "    }\n",
              "</style>\n",
              "<table border=\"1\" class=\"dataframe\">\n",
              "  <thead>\n",
              "    <tr style=\"text-align: right;\">\n",
              "      <th></th>\n",
              "      <th>RNO</th>\n",
              "      <th>State</th>\n",
              "      <th>Gender</th>\n",
              "      <th>Cat_GEN</th>\n",
              "      <th>Cat_OBC</th>\n",
              "      <th>Cat_SC</th>\n",
              "      <th>Cat_ST</th>\n",
              "    </tr>\n",
              "  </thead>\n",
              "  <tbody>\n",
              "    <tr>\n",
              "      <th>0</th>\n",
              "      <td>20150601</td>\n",
              "      <td>1</td>\n",
              "      <td>0</td>\n",
              "      <td>0</td>\n",
              "      <td>1</td>\n",
              "      <td>0</td>\n",
              "      <td>0</td>\n",
              "    </tr>\n",
              "    <tr>\n",
              "      <th>1</th>\n",
              "      <td>20150602</td>\n",
              "      <td>1</td>\n",
              "      <td>1</td>\n",
              "      <td>0</td>\n",
              "      <td>0</td>\n",
              "      <td>1</td>\n",
              "      <td>0</td>\n",
              "    </tr>\n",
              "    <tr>\n",
              "      <th>2</th>\n",
              "      <td>20150603</td>\n",
              "      <td>1</td>\n",
              "      <td>1</td>\n",
              "      <td>0</td>\n",
              "      <td>0</td>\n",
              "      <td>0</td>\n",
              "      <td>1</td>\n",
              "    </tr>\n",
              "    <tr>\n",
              "      <th>3</th>\n",
              "      <td>20150604</td>\n",
              "      <td>0</td>\n",
              "      <td>0</td>\n",
              "      <td>1</td>\n",
              "      <td>0</td>\n",
              "      <td>0</td>\n",
              "      <td>0</td>\n",
              "    </tr>\n",
              "    <tr>\n",
              "      <th>4</th>\n",
              "      <td>20150605</td>\n",
              "      <td>2</td>\n",
              "      <td>1</td>\n",
              "      <td>1</td>\n",
              "      <td>0</td>\n",
              "      <td>0</td>\n",
              "      <td>0</td>\n",
              "    </tr>\n",
              "  </tbody>\n",
              "</table>\n",
              "</div>"
            ],
            "text/plain": [
              "        RNO  State  Gender  Cat_GEN  Cat_OBC  Cat_SC  Cat_ST\n",
              "0  20150601      1       0        0        1       0       0\n",
              "1  20150602      1       1        0        0       1       0\n",
              "2  20150603      1       1        0        0       0       1\n",
              "3  20150604      0       0        1        0       0       0\n",
              "4  20150605      2       1        1        0       0       0"
            ]
          },
          "metadata": {
            "tags": []
          },
          "execution_count": 21
        }
      ]
    },
    {
      "cell_type": "code",
      "metadata": {
        "id": "bw-OfhAX5Pxc",
        "outputId": "08674b57-c4d4-459c-ec58-e26128fdbeac",
        "colab": {
          "base_uri": "https://localhost:8080/",
          "height": 284
        }
      },
      "source": [
        "df.describe()"
      ],
      "execution_count": null,
      "outputs": [
        {
          "output_type": "execute_result",
          "data": {
            "text/html": [
              "<div>\n",
              "<style scoped>\n",
              "    .dataframe tbody tr th:only-of-type {\n",
              "        vertical-align: middle;\n",
              "    }\n",
              "\n",
              "    .dataframe tbody tr th {\n",
              "        vertical-align: top;\n",
              "    }\n",
              "\n",
              "    .dataframe thead th {\n",
              "        text-align: right;\n",
              "    }\n",
              "</style>\n",
              "<table border=\"1\" class=\"dataframe\">\n",
              "  <thead>\n",
              "    <tr style=\"text-align: right;\">\n",
              "      <th></th>\n",
              "      <th>RNO</th>\n",
              "      <th>State</th>\n",
              "      <th>Gender</th>\n",
              "      <th>Cat_GEN</th>\n",
              "      <th>Cat_OBC</th>\n",
              "      <th>Cat_SC</th>\n",
              "      <th>Cat_ST</th>\n",
              "    </tr>\n",
              "  </thead>\n",
              "  <tbody>\n",
              "    <tr>\n",
              "      <th>count</th>\n",
              "      <td>5.000000e+00</td>\n",
              "      <td>5.000000</td>\n",
              "      <td>5.000000</td>\n",
              "      <td>5.000000</td>\n",
              "      <td>5.000000</td>\n",
              "      <td>5.000000</td>\n",
              "      <td>5.000000</td>\n",
              "    </tr>\n",
              "    <tr>\n",
              "      <th>mean</th>\n",
              "      <td>2.015060e+07</td>\n",
              "      <td>1.000000</td>\n",
              "      <td>0.600000</td>\n",
              "      <td>0.400000</td>\n",
              "      <td>0.200000</td>\n",
              "      <td>0.200000</td>\n",
              "      <td>0.200000</td>\n",
              "    </tr>\n",
              "    <tr>\n",
              "      <th>std</th>\n",
              "      <td>1.581139e+00</td>\n",
              "      <td>0.707107</td>\n",
              "      <td>0.547723</td>\n",
              "      <td>0.547723</td>\n",
              "      <td>0.447214</td>\n",
              "      <td>0.447214</td>\n",
              "      <td>0.447214</td>\n",
              "    </tr>\n",
              "    <tr>\n",
              "      <th>min</th>\n",
              "      <td>2.015060e+07</td>\n",
              "      <td>0.000000</td>\n",
              "      <td>0.000000</td>\n",
              "      <td>0.000000</td>\n",
              "      <td>0.000000</td>\n",
              "      <td>0.000000</td>\n",
              "      <td>0.000000</td>\n",
              "    </tr>\n",
              "    <tr>\n",
              "      <th>25%</th>\n",
              "      <td>2.015060e+07</td>\n",
              "      <td>1.000000</td>\n",
              "      <td>0.000000</td>\n",
              "      <td>0.000000</td>\n",
              "      <td>0.000000</td>\n",
              "      <td>0.000000</td>\n",
              "      <td>0.000000</td>\n",
              "    </tr>\n",
              "    <tr>\n",
              "      <th>50%</th>\n",
              "      <td>2.015060e+07</td>\n",
              "      <td>1.000000</td>\n",
              "      <td>1.000000</td>\n",
              "      <td>0.000000</td>\n",
              "      <td>0.000000</td>\n",
              "      <td>0.000000</td>\n",
              "      <td>0.000000</td>\n",
              "    </tr>\n",
              "    <tr>\n",
              "      <th>75%</th>\n",
              "      <td>2.015060e+07</td>\n",
              "      <td>1.000000</td>\n",
              "      <td>1.000000</td>\n",
              "      <td>1.000000</td>\n",
              "      <td>0.000000</td>\n",
              "      <td>0.000000</td>\n",
              "      <td>0.000000</td>\n",
              "    </tr>\n",
              "    <tr>\n",
              "      <th>max</th>\n",
              "      <td>2.015060e+07</td>\n",
              "      <td>2.000000</td>\n",
              "      <td>1.000000</td>\n",
              "      <td>1.000000</td>\n",
              "      <td>1.000000</td>\n",
              "      <td>1.000000</td>\n",
              "      <td>1.000000</td>\n",
              "    </tr>\n",
              "  </tbody>\n",
              "</table>\n",
              "</div>"
            ],
            "text/plain": [
              "                RNO     State    Gender   Cat_GEN   Cat_OBC    Cat_SC    Cat_ST\n",
              "count  5.000000e+00  5.000000  5.000000  5.000000  5.000000  5.000000  5.000000\n",
              "mean   2.015060e+07  1.000000  0.600000  0.400000  0.200000  0.200000  0.200000\n",
              "std    1.581139e+00  0.707107  0.547723  0.547723  0.447214  0.447214  0.447214\n",
              "min    2.015060e+07  0.000000  0.000000  0.000000  0.000000  0.000000  0.000000\n",
              "25%    2.015060e+07  1.000000  0.000000  0.000000  0.000000  0.000000  0.000000\n",
              "50%    2.015060e+07  1.000000  1.000000  0.000000  0.000000  0.000000  0.000000\n",
              "75%    2.015060e+07  1.000000  1.000000  1.000000  0.000000  0.000000  0.000000\n",
              "max    2.015060e+07  2.000000  1.000000  1.000000  1.000000  1.000000  1.000000"
            ]
          },
          "metadata": {
            "tags": []
          },
          "execution_count": 22
        }
      ]
    }
  ]
}